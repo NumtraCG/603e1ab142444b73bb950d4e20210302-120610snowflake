{
 "cells": [
  {
   "cell_type": "markdown",
   "metadata": {},
   "source": [
    "***GENERATED CODE FOR snowflake PIPELINE.***"
   ]
  },
  {
   "cell_type": "markdown",
   "metadata": {},
   "source": [
    "***DON'T EDIT THIS CODE.***"
   ]
  },
  {
   "cell_type": "markdown",
   "metadata": {},
   "source": [
    "***CONNECTOR FUNCTIONS TO READ DATA.***"
   ]
  },
  {
   "cell_type": "code",
   "execution_count": null,
   "metadata": {},
   "outputs": [],
   "source": [
    "import warnings\n",
    "warnings.filterwarnings('ignore')\n",
    "\n",
    "\n",
    "class SnowFlakeConnector:\n",
    "\n",
    "    def fetch(spark, config):\n",
    "        return spark.read.format(\"net.snowflake.spark.snowflake\") \\\n",
    "            .option(\"sfUrl\", eval(config)['access_url']) \\\n",
    "            .option(\"sfUser\", eval(config)['username']) \\\n",
    "            .option(\"sfPassword\", eval(config)['password']) \\\n",
    "            .option(\"sfDatabase\", eval(config)['database']) \\\n",
    "            .option(\"sfSchema\", eval(config)['schema']) \\\n",
    "            .option(eval(config)['qtype'], eval(config)['query']) \\\n",
    "            .load()\n",
    "\n",
    "    def put(df, spark, config):\n",
    "        df.write.mode(eval(config)['writemode'])\\\n",
    "            .format(\"net.snowflake.spark.snowflake\") \\\n",
    "            .option(\"sfUrl\", eval(config)['access_url']) \\\n",
    "            .option(\"sfUser\", eval(config)['username']) \\\n",
    "            .option(\"sfPassword\", eval(config)['password']) \\\n",
    "            .option(\"sfDatabase\", eval(config)['database']) \\\n",
    "            .option(\"sfSchema\", eval(config)['schema']) \\\n",
    "            .option(eval(config)['qtype'], eval(config)['query']) \\\n",
    "            .save()\n"
   ]
  },
  {
   "cell_type": "markdown",
   "metadata": {},
   "source": [
    "***CONNECTOR FUNCTIONS TO WRITE DATA.***"
   ]
  },
  {
   "cell_type": "code",
   "execution_count": null,
   "metadata": {},
   "outputs": [],
   "source": [
    "import warnings\n",
    "warnings.filterwarnings('ignore')\n",
    "\n",
    "\n",
    "class SnowFlakeConnector:\n",
    "\n",
    "    def fetch(spark, config):\n",
    "        return spark.read.format(\"net.snowflake.spark.snowflake\") \\\n",
    "            .option(\"sfUrl\", eval(config)['access_url']) \\\n",
    "            .option(\"sfUser\", eval(config)['username']) \\\n",
    "            .option(\"sfPassword\", eval(config)['password']) \\\n",
    "            .option(\"sfDatabase\", eval(config)['database']) \\\n",
    "            .option(\"sfSchema\", eval(config)['schema']) \\\n",
    "            .option(eval(config)['qtype'], eval(config)['query']) \\\n",
    "            .load()\n",
    "\n",
    "    def put(df, spark, config):\n",
    "        df.write.mode(eval(config)['writemode'])\\\n",
    "            .format(\"net.snowflake.spark.snowflake\") \\\n",
    "            .option(\"sfUrl\", eval(config)['access_url']) \\\n",
    "            .option(\"sfUser\", eval(config)['username']) \\\n",
    "            .option(\"sfPassword\", eval(config)['password']) \\\n",
    "            .option(\"sfDatabase\", eval(config)['database']) \\\n",
    "            .option(\"sfSchema\", eval(config)['schema']) \\\n",
    "            .option(eval(config)['qtype'], eval(config)['query']) \\\n",
    "            .save()\n"
   ]
  },
  {
   "cell_type": "markdown",
   "metadata": {},
   "source": [
    "***READING DATAFRAME***"
   ]
  },
  {
   "cell_type": "code",
   "execution_count": null,
   "metadata": {},
   "outputs": [],
   "source": [
    "#%run snowflakeHooks.ipynb\n",
    "try:\n",
    "\t#sourcePreExecutionHook()\n",
    "\n",
    "\tsnowflake = SnowFlakeConnector.fetch(spark, \"{'url': '/FileStore/platform/sampleData/603e1ac242444b73bb950d4f/part-00000-6e7dbdeb-9bd2-44ef-82d8-6ccf6a6bdcaa-c000.csv', 'access_url': 'https://wx63330.southeast-asia.azure.snowflakecomputing.com', 'username': 'numtra1122', 'password': 'numtra1122F', 'database': 'TESTDB', 'schema': 'PUBLIC', 'qtype': 'dbtable', 'query': 'BOAST', 'dbtype': 'snowflake', 'is_header': 'Use Header Line'}\")\n",
    "\t#sourcePostExecutionHook(snowflake)\n",
    "\n",
    "except Exception as ex: \n",
    "\tlogging.error(ex)\n"
   ]
  },
  {
   "cell_type": "markdown",
   "metadata": {},
   "source": [
    "***WRITING DATAFRAME***"
   ]
  },
  {
   "cell_type": "code",
   "execution_count": null,
   "metadata": {},
   "outputs": [],
   "source": [
    "#%run snowflakeHooks.ipynb\n",
    "try:\n",
    "\t#sinkPreExecutionHook()\n",
    "\n",
    "\tsnowflake = SnowFlakeConnector.put(spark, \"{'access_url': 'https://wx63330.southeast-asia.azure.snowflakecomputing.com', 'username': 'numtra1122', 'password': 'numtra1122F', 'database': 'TESTDB', 'schema': '', 'dbtype': 'snowflake', 'table_option': 'create_new_table', 'query': 'ttt', 'new_table_name': 'ttt', 'writemode': '', 'qtype': 'dbtable', 'is_header': 'Use Header Line'}\")\n",
    "\t#sinkPostExecutionHook(snowflake)\n",
    "\n",
    "except Exception as ex: \n",
    "\tlogging.error(ex)\n"
   ]
  }
 ],
 "metadata": {},
 "nbformat": 4,
 "nbformat_minor": 2
}
